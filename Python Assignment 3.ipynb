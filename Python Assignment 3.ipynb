{
 "cells": [
  {
   "cell_type": "code",
   "execution_count": 1,
   "id": "057f38c3",
   "metadata": {},
   "outputs": [
    {
     "name": "stdout",
     "output_type": "stream",
     "text": [
      "Twinkle, twinkle, little star,\n",
      "\tHow I wonder what you are!\n",
      "\t\tUp above the world so high,\n",
      "\t\tLike a diamond in the sky.\n",
      "Twinkle, twinkle, little star,\n",
      "\tHow I wonder what you are!\n"
     ]
    }
   ],
   "source": [
    "#1. Write a Python program to print the following string in a specific format (see the output).\n",
    "\n",
    "#Twinkle, twinkle, little star,\n",
    "#How I wonder what you are!\n",
    "#Up above the world so high,\n",
    "#Like a diamond in the sky.\n",
    "\n",
    "#Twinkle, twinkle, little star,\n",
    "#How I wonder what you are\n",
    "\n",
    "print(\"Twinkle, twinkle, little star,\\n\\tHow I wonder what you are!\\n\\t\\tUp above the world so high,\\n\\t\\tLike a diamond in the sky.\\nTwinkle, twinkle, little star,\\n\\tHow I wonder what you are!\");"
   ]
  },
  {
   "cell_type": "code",
   "execution_count": 2,
   "id": "0eac532f",
   "metadata": {},
   "outputs": [
    {
     "name": "stdout",
     "output_type": "stream",
     "text": [
      "Python version\n",
      "3.8.8 (default, Apr 13 2021, 15:08:03) [MSC v.1916 64 bit (AMD64)]\n"
     ]
    }
   ],
   "source": [
    "#2. Write a Python program to get the Python version you are using\n",
    "import sys;\n",
    "print(\"Python version\");\n",
    "print (sys.version);"
   ]
  },
  {
   "cell_type": "code",
   "execution_count": 8,
   "id": "1c8c8168",
   "metadata": {},
   "outputs": [
    {
     "name": "stdout",
     "output_type": "stream",
     "text": [
      "23-10-21 16:08\n"
     ]
    }
   ],
   "source": [
    "#3. Write a Python program to display the current date and time.\n",
    "from datetime import datetime\n",
    "Datetime = datetime.now()\n",
    "print (Datetime.strftime(\"%d-%m-%y %H:%M\"));"
   ]
  },
  {
   "cell_type": "code",
   "execution_count": 9,
   "id": "430e3598",
   "metadata": {},
   "outputs": [
    {
     "name": "stdout",
     "output_type": "stream",
     "text": [
      "Enter the radius 7\n",
      "You area is 153.93804002589985\n"
     ]
    }
   ],
   "source": [
    "#4. Write a Python program which accepts the radius of a circle from the user and compute the area.\n",
    "import math\n",
    "r=int(input(\"Enter the radius \"));\n",
    "pi=math.pi;\n",
    "Area=pi*r**2;\n",
    "print(\"You area is\",Area);"
   ]
  },
  {
   "cell_type": "code",
   "execution_count": 10,
   "id": "4dc22eac",
   "metadata": {},
   "outputs": [
    {
     "name": "stdout",
     "output_type": "stream",
     "text": [
      "Enter your first name Muhammad\n",
      "Enter your last name Aashquin\n",
      "Your reverse name is Aashquin Muhammad\n"
     ]
    }
   ],
   "source": [
    "#5. Write a Python program which accepts the user's first and last name and print them in reverse order with a space between them.\n",
    "x= input(\"Enter your first name \");\n",
    "y= input(\"Enter your last name \");\n",
    "print(\"Your reverse name is\",y,x);"
   ]
  },
  {
   "cell_type": "code",
   "execution_count": 11,
   "id": "cf84ac6a",
   "metadata": {},
   "outputs": [
    {
     "name": "stdout",
     "output_type": "stream",
     "text": [
      "Enter the first number 5\n",
      "Enter the second number 8\n",
      "13\n"
     ]
    }
   ],
   "source": [
    "#6. Write a python program which takes two inputs from user and print them addition.\n",
    "x=int(input(\"Enter the first number \"));\n",
    "y=int(input(\"Enter the second number \"));\n",
    "print(x+y);"
   ]
  },
  {
   "cell_type": "code",
   "execution_count": 14,
   "id": "85c5776b",
   "metadata": {},
   "outputs": [
    {
     "name": "stdout",
     "output_type": "stream",
     "text": [
      "1st subject number 50\n",
      "2nd subject number 50\n",
      "3rd subject number 50\n",
      "4th subject number 50\n",
      "5th subject number 50\n",
      "Your total marks are 250\n",
      "Grade B\n"
     ]
    }
   ],
   "source": [
    "#7. Write a program which takes 5 inputs from user for different subject’s marks, total it and generate mark sheet using grades ?\n",
    "\n",
    "x=int(input(\"1st subject number \"));\n",
    "y=int(input(\"2nd subject number \"));\n",
    "z=int(input(\"3rd subject number \"));\n",
    "a=int(input(\"4th subject number \"));\n",
    "b=int(input(\"5th subject number \"));\n",
    "TM=x+y+z+a+b;\n",
    "Total=TM;\n",
    "print(\"Your total marks are\",TM);\n",
    "if Total <= 500 and Total >= 450:\n",
    "    print (\"Grade A+\");\n",
    "elif Total < 450 and Total >=300:\n",
    "    print (\"Grade A\");\n",
    "elif Total < 300 and Total >= 250:\n",
    "    print (\"Grade B\");\n",
    "elif Total < 250 and Total >= 200:\n",
    "    print (\"Grade C\");\n",
    "elif Total < 200 and Total >= 150:\n",
    "    print (\"Grade D\");\n",
    "elif Total < 150 and Total >= 100:\n",
    "    print (\"Grade E\");\n",
    "elif Total > 500:\n",
    "    print (\"Invalid Subject Numbers\");\n",
    "else:\n",
    "    print ('Fail');"
   ]
  },
  {
   "cell_type": "code",
   "execution_count": 16,
   "id": "4b548f84",
   "metadata": {},
   "outputs": [
    {
     "name": "stdout",
     "output_type": "stream",
     "text": [
      "Enter your number 66\n",
      "66 is an Even number\n"
     ]
    }
   ],
   "source": [
    "#8. Write a program which take input from user and identify that the given number is even or odd?\n",
    "\n",
    "x=int(input(\"Enter your number \"));\n",
    "if x%2==0:\n",
    "    print(x,\"is an Even number\");\n",
    "else:\n",
    "    print(x,\"is an Odd Number\");"
   ]
  },
  {
   "cell_type": "code",
   "execution_count": 18,
   "id": "04267f65",
   "metadata": {},
   "outputs": [
    {
     "name": "stdout",
     "output_type": "stream",
     "text": [
      "The length of Aashquin_list is: 6\n"
     ]
    }
   ],
   "source": [
    "#9. Write a program which print the length of the list?\n",
    "\n",
    "Aashquin_list=[15,12,\"Aashquin\",\"Ali\",7,8]\n",
    "\n",
    "#By using len() method:\n",
    "print(\"The length of Aashquin_list is:\",len(Aashquin_list));"
   ]
  },
  {
   "cell_type": "code",
   "execution_count": 19,
   "id": "4e7e0070",
   "metadata": {},
   "outputs": [
    {
     "name": "stdout",
     "output_type": "stream",
     "text": [
      "Your total is 41\n"
     ]
    }
   ],
   "source": [
    "#10.Write a Python program to sum all the numeric items in a list?\n",
    "Aashquin_list2=[2,4,6,8,10,11];\n",
    "Total=sum(Aashquin_list2);\n",
    "print(\"Your total is\",Total,);"
   ]
  },
  {
   "cell_type": "code",
   "execution_count": 21,
   "id": "ce1effb8",
   "metadata": {},
   "outputs": [
    {
     "name": "stdout",
     "output_type": "stream",
     "text": [
      "The largest number is 268\n"
     ]
    }
   ],
   "source": [
    "#11.Write a Python program to get the largest number from a numeric list.\n",
    "Aashquin_list3=[2,4,152,5,9,268,45,123];\n",
    "print(\"The largest number is\",max(Aashquin_list3));"
   ]
  },
  {
   "cell_type": "code",
   "execution_count": 22,
   "id": "5d09669e",
   "metadata": {},
   "outputs": [
    {
     "name": "stdout",
     "output_type": "stream",
     "text": [
      "1\n",
      "1\n",
      "2\n",
      "3\n"
     ]
    }
   ],
   "source": [
    "#12. Take a list, say for example this one:\n",
    "#a = [1, 1, 2, 3, 5, 8, 13, 21, 34, 55, 89]\n",
    "#Write a program that prints out all the elements of the list that are less than 5.\n",
    "\n",
    "a = [1, 1, 2, 3, 5, 8, 13, 21, 34, 55, 89]\n",
    "for x in a:\n",
    "    if x<5:\n",
    "        print(x);"
   ]
  }
 ],
 "metadata": {
  "kernelspec": {
   "display_name": "Python 3",
   "language": "python",
   "name": "python3"
  },
  "language_info": {
   "codemirror_mode": {
    "name": "ipython",
    "version": 3
   },
   "file_extension": ".py",
   "mimetype": "text/x-python",
   "name": "python",
   "nbconvert_exporter": "python",
   "pygments_lexer": "ipython3",
   "version": "3.8.8"
  }
 },
 "nbformat": 4,
 "nbformat_minor": 5
}
